{
 "cells": [
  {
   "cell_type": "code",
   "execution_count": 1,
   "id": "7964adfc",
   "metadata": {},
   "outputs": [
    {
     "name": "stdout",
     "output_type": "stream",
     "text": [
      " enter your email : princerajput123@gmail.com\n",
      "your email is correct\n"
     ]
    }
   ],
   "source": [
    "email=input(' enter your email : ')\n",
    "k,j,d=0,0,0\n",
    "if len(email)>=6: # 1\n",
    "    \n",
    "    if email[0].isalpha(): # 2\n",
    "        \n",
    "        if ('@'in email) and email.count('@')==1: # 3\n",
    "            \n",
    "            if (email[-4]=='.') or (email[-3]=='.'): # 4\n",
    "                \n",
    "                for i in email:\n",
    "                    if i==i.isspace():\n",
    "                        k=1\n",
    "                    elif i.isalpha(): # 5\n",
    "                        if i==i.upper():\n",
    "                            j=1\n",
    "                    elif i.isdigit(): # 5\n",
    "                        continue\n",
    "                    elif i=='_' or i=='.' or i=='@':\n",
    "                        continue\n",
    "                    else: # 5\n",
    "                        d=1\n",
    "                if k==1 or j==1 or d==1:\n",
    "                    print('your email is wrong condition fifth')\n",
    "                else:\n",
    "                    print('your email is correct')\n",
    "            \n",
    "            else:\n",
    "                print('your email is wrong condition fourth')\n",
    "        \n",
    "        else:\n",
    "            print('your email is wrong condition third')\n",
    "        \n",
    "    else:\n",
    "        print('your email is wrong condition second')\n",
    "    \n",
    "else:\n",
    "    print('your email is wrong condition first')"
   ]
  },
  {
   "cell_type": "code",
   "execution_count": 3,
   "id": "6c523b7b",
   "metadata": {},
   "outputs": [
    {
     "name": "stdout",
     "output_type": "stream",
     "text": [
      " enter your email : PRIncekumar123@gmail.com\n",
      "princekumargmailcom your email is correct\n"
     ]
    }
   ],
   "source": [
    "# Automatic changes capital words to convert small words.\n",
    "email=input(' enter your email : ')\n",
    "k=0\n",
    "d=0\n",
    "if len(email)>=6:\n",
    "    if email[0].isalpha():\n",
    "        if ('@'in email) and email.count('@')==1:\n",
    "            if (email[-4]=='.') or (email[-3]=='.'):\n",
    "                for i in email:\n",
    "                    if i==i.isspace():\n",
    "                        k=1\n",
    "                    elif i.isalpha():\n",
    "                        if i.upper():\n",
    "                            print(i.lower(),end='')\n",
    "                    elif i.isdigit():\n",
    "                        continue\n",
    "                    elif i=='_' or i=='.' or i=='@':\n",
    "                        continue\n",
    "                    else:\n",
    "                        d=1\n",
    "                if k==1 or d==1:\n",
    "                    print('your email is wrong condition fifth')\n",
    "                else:\n",
    "                    print(' your email is correct')\n",
    "            else:\n",
    "                print('your email is wrong condition fourth')\n",
    "        else:\n",
    "            print('your email is wrong condition third')\n",
    "    else:\n",
    "        print('your email is wrong condition second')\n",
    "else:\n",
    "    print('your email is wrong condition first')"
   ]
  },
  {
   "cell_type": "code",
   "execution_count": null,
   "id": "9448e646",
   "metadata": {},
   "outputs": [],
   "source": []
  }
 ],
 "metadata": {
  "kernelspec": {
   "display_name": "Python 3 (ipykernel)",
   "language": "python",
   "name": "python3"
  },
  "language_info": {
   "codemirror_mode": {
    "name": "ipython",
    "version": 3
   },
   "file_extension": ".py",
   "mimetype": "text/x-python",
   "name": "python",
   "nbconvert_exporter": "python",
   "pygments_lexer": "ipython3",
   "version": "3.9.13"
  }
 },
 "nbformat": 4,
 "nbformat_minor": 5
}
